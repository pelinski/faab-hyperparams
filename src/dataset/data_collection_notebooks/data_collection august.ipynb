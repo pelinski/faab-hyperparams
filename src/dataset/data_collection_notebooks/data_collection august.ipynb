{
 "cells": [
  {
   "cell_type": "markdown",
   "id": "e8606110",
   "metadata": {},
   "source": [
    "# Dataset recording August\n",
    "To run this notebook, you need to select the environment we have been using for this project. In the top right of the notebook, click on `Select Kernel` and look for `faab-hyperparams .venv/bin/python` (it might be under `Select Another Kernel...`).\n",
    "\n",
    "Once the notebook is running, make sure the piezos are connected to Bela.\n",
    "\n",
    "Then, transfer the `faab-record` code to Bela. Run the `faab-record` project in Bela with the IDE (next cell)\n",
    "\n",
    "You can check all piezos are working correctly by checking the Bela scope (click on the button with a sinusoidal wave, next to the stop button)"
   ]
  },
  {
   "cell_type": "code",
   "execution_count": 45,
   "id": "1327f937",
   "metadata": {},
   "outputs": [
    {
     "name": "stdout",
     "output_type": "stream",
     "text": [
      "sending incremental file list\n",
      "faab-record/Watcher.cpp\n",
      "            174 100%    0.00kB/s    0:00:00 (xfr#1, to-chk=2/4)\n",
      "faab-record/Watcher.h\n",
      "         23,769 100%   22.67MB/s    0:00:00 (xfr#2, to-chk=1/4)\n",
      "faab-record/render.cpp\n",
      "          2,251 100%    2.15MB/s    0:00:00 (xfr#3, to-chk=0/4)\n",
      "\n",
      "Number of files: 4 (reg: 3, dir: 1)\n",
      "Number of created files: 0\n",
      "Number of deleted files: 0\n",
      "Number of regular files transferred: 3\n",
      "Total file size: 26,194 bytes\n",
      "Total transferred file size: 26,194 bytes\n",
      "Literal data: 647 bytes\n",
      "Matched data: 25,547 bytes\n",
      "File list size: 0\n",
      "File list generation time: 0.001 seconds\n",
      "File list transfer time: 0.000 seconds\n",
      "Total bytes sent: 1,050\n",
      "Total bytes received: 308\n",
      "\n",
      "sent 1,050 bytes  received 308 bytes  905.33 bytes/sec\n",
      "total size is 26,194  speedup is 19.29\n"
     ]
    }
   ],
   "source": [
    "! cd ../../../ && rsync -rvL --stats --progress \"bela-code/faab-record\" root@bela.local:Bela/projects/"
   ]
  },
  {
   "cell_type": "code",
   "execution_count": null,
   "id": "835795bd",
   "metadata": {},
   "outputs": [],
   "source": [
    "# import python libraries  & create folder where datasets will be saved\n",
    "from pybela import Logger\n",
    "import datetime\n",
    "import os\n",
    "from ipywidgets import widgets\n",
    "from IPython.display import display\n",
    "\n",
    "save_path = \"../data/august-datasets\"\n",
    "os.makedirs(save_path, exist_ok=True)"
   ]
  },
  {
   "cell_type": "code",
   "execution_count": null,
   "id": "6696c076",
   "metadata": {},
   "outputs": [
    {
     "name": "stdout",
     "output_type": "stream",
     "text": [
      "Running in Jupyter notebook. Enabling nest_asyncio.\n"
     ]
    }
   ],
   "source": [
    "# connect to Bela\n",
    "logger = Logger()\n",
    "logger.connect()"
   ]
  },
  {
   "cell_type": "markdown",
   "id": "6359865a",
   "metadata": {},
   "source": [
    "# Record and transfer dataset\n",
    "To record a dataset, set the `time_in_seconds` and a `dataset_name` in the next cell. When you are ready, run the next two cells.\n",
    "\n",
    "The cell after next will run both the dataset recording and the transfer of those files to the computer. \n",
    "\n",
    "Once the yellow banner shows with \"⏳ Recording dataset\", it means the dataset is being recorded in Bela, so you can play. Once the `time_in_seconds` finishes, the banner will change from yellow to green and the transfer of the files from Bela to the computer will start. Once the transfer finishes, you can come back to this cell, set a new dataset name and time, and repeat the process.\n",
    "\n",
    "When you are ready, run the next two cells.\n"
   ]
  },
  {
   "cell_type": "code",
   "execution_count": null,
   "id": "48b2ac6f",
   "metadata": {},
   "outputs": [],
   "source": [
    "\n",
    "### set dataset parameters here!!!!!!! ###\n",
    "\n",
    "time_in_seconds = 5 * 60  # 5 minutes, you can test with 1 second at first to check everything works\n",
    "dataset_name = \"drone_example\"\n",
    "\n",
    "### end of dataset parameters ###\n",
    "\n",
    "\n",
    "yellow_recording_banner_html = f'<div style=\"background-color: #fff3cd; border: 1px solid #ffeaa7; padding: 10px; border-radius: 5px; color: #856404;\"><h1><strong>⏳ Recording dataset {dataset_name} in progress...</strong></h1></div>'\n",
    "green_recording_banner_html = f'<div style=\"background-color: #d4edda; border: 1px solid #c3e6cb; padding: 10px; border-radius: 5px; color: #155724;\"><h1><strong>✅ Dataset {dataset_name} recording complete!</strong></h1></div>'\n",
    "yellow_transfer_banner_html = f'<div style=\"background-color: #fff3cd; border: 1px solid #ffeaa7; padding: 10px; border-radius: 5px; color: #856404;\"><h1><strong>⏳ Transferring dataset {dataset_name} from Bela to {save_path}...</strong></h1></div>'\n",
    "green_transfer_banner_html = f'<div style=\"background-color: #d4edda; border: 1px solid #c3e6cb; padding: 10px; border-radius: 5px; color: #155724;\"><h1><strong>✅ Dataset {dataset_name} transfer complete!</strong></h1></div>'\n",
    "\n",
    "recording_banner = widgets.HTML(value=yellow_recording_banner_html)\n",
    "transfer_banner = widgets.HTML(value=yellow_transfer_banner_html)"
   ]
  },
  {
   "cell_type": "code",
   "execution_count": null,
   "id": "c9cba84f",
   "metadata": {},
   "outputs": [
    {
     "name": "stdout",
     "output_type": "stream",
     "text": [
      "\u001b[94mStopped logging variables ['gFaabSensor_1', 'gFaabSensor_2', 'gFaabSensor_3', 'gFaabSensor_4', 'gFaabSensor_5', 'gFaabSensor_6', 'gFaabSensor_7', 'gFaabSensor_8']...\u001b[0m\n",
      "\u001b[94mStarted logging variables ['gFaabSensor_1', 'gFaabSensor_2', 'gFaabSensor_3', 'gFaabSensor_4', 'gFaabSensor_5', 'gFaabSensor_6', 'gFaabSensor_7', 'gFaabSensor_8']... Run stop_logging() to stop logging.\u001b[0m\n"
     ]
    },
    {
     "data": {
      "application/vnd.jupyter.widget-view+json": {
       "model_id": "9b299c6e990943b88776d4b88e80b733",
       "version_major": 2,
       "version_minor": 0
      },
      "text/plain": [
       "HTML(value='<div style=\"background-color: #fff3cd; border: 1px solid #ffeaa7; padding: 10px; border-radius: 5p…"
      ]
     },
     "metadata": {},
     "output_type": "display_data"
    },
    {
     "name": "stdout",
     "output_type": "stream",
     "text": [
      "\u001b[94mStopped logging variables ['gFaabSensor_1', 'gFaabSensor_2', 'gFaabSensor_3', 'gFaabSensor_4', 'gFaabSensor_5', 'gFaabSensor_6', 'gFaabSensor_7', 'gFaabSensor_8']...\u001b[0m\n"
     ]
    },
    {
     "data": {
      "application/vnd.jupyter.widget-view+json": {
       "model_id": "c016e368527e48abb660b042a87bc268",
       "version_major": 2,
       "version_minor": 0
      },
      "text/plain": [
       "HTML(value='<div style=\"background-color: #fff3cd; border: 1px solid #ffeaa7; padding: 10px; border-radius: 5p…"
      ]
     },
     "metadata": {},
     "output_type": "display_data"
    },
    {
     "name": "stdout",
     "output_type": "stream",
     "text": [
      "/root/Bela/projects/faab-run/gFaabSensor_1+7.bin\n",
      "Transferring /root/Bela/projects/faab-run/gFaabSensor_1+7.bin-->../data/august-datasets/08131811-drone-gFaabSensor_1.bin... Done.\u001b[0m\n",
      "/root/Bela/projects/faab-run/gFaabSensor_2+7.bin\n",
      "Transferring /root/Bela/projects/faab-run/gFaabSensor_2+7.bin-->../data/august-datasets/08131811-drone-gFaabSensor_2.bin... Done.\u001b[0m\n",
      "/root/Bela/projects/faab-run/gFaabSensor_3+7.bin\n",
      "Transferring /root/Bela/projects/faab-run/gFaabSensor_3+7.bin-->../data/august-datasets/08131811-drone-gFaabSensor_3.bin... Done.\u001b[0m\n",
      "/root/Bela/projects/faab-run/gFaabSensor_4+7.bin\n",
      "Transferring /root/Bela/projects/faab-run/gFaabSensor_4+7.bin-->../data/august-datasets/08131811-drone-gFaabSensor_4.bin... Done.\u001b[0m\n",
      "/root/Bela/projects/faab-run/gFaabSensor_5+7.bin\n",
      "Transferring /root/Bela/projects/faab-run/gFaabSensor_5+7.bin-->../data/august-datasets/08131811-drone-gFaabSensor_5.bin... Done.\u001b[0m\n",
      "/root/Bela/projects/faab-run/gFaabSensor_6+7.bin\n",
      "Transferring /root/Bela/projects/faab-run/gFaabSensor_6+7.bin-->../data/august-datasets/08131811-drone-gFaabSensor_6.bin... Done.\u001b[0m\n",
      "/root/Bela/projects/faab-run/gFaabSensor_7+7.bin\n",
      "Transferring /root/Bela/projects/faab-run/gFaabSensor_7+7.bin-->../data/august-datasets/08131811-drone-gFaabSensor_7.bin... Done.\u001b[0m\n",
      "/root/Bela/projects/faab-run/gFaabSensor_8+7.bin\n",
      "Transferring /root/Bela/projects/faab-run/gFaabSensor_8+7.bin-->../data/august-datasets/08131811-drone-gFaabSensor_8.bin... Done.\u001b[0m\n"
     ]
    }
   ],
   "source": [
    "date = datetime.datetime.now().strftime(\"%m%d%H%M\")\n",
    "\n",
    "### dataset recording ###\n",
    "paths = logger.start_logging(transfer=False)\n",
    "display(recording_banner)\n",
    "logger.wait(time_in_seconds)\n",
    "logger.stop_logging()\n",
    "recording_banner.value = green_recording_banner_html\n",
    "\n",
    "### dataset transferring ###\n",
    "display(transfer_banner)\n",
    "for sensor in paths[\"remote_paths\"]:\n",
    "    print(paths[\"remote_paths\"][sensor])\n",
    "    logger.copy_file_from_bela(\n",
    "        paths[\"remote_paths\"][sensor],\n",
    "        os.path.join(save_path, f\"{date}-{dataset_name}-{sensor}.bin\"),\n",
    "        verbose=True,\n",
    "    )\n",
    "\n",
    "transfer_banner.value = green_transfer_banner_html"
   ]
  }
 ],
 "metadata": {
  "kernelspec": {
   "display_name": "faab",
   "language": "python",
   "name": "python3"
  },
  "language_info": {
   "codemirror_mode": {
    "name": "ipython",
    "version": 3
   },
   "file_extension": ".py",
   "mimetype": "text/x-python",
   "name": "python",
   "nbconvert_exporter": "python",
   "pygments_lexer": "ipython3",
   "version": "3.10.18"
  }
 },
 "nbformat": 4,
 "nbformat_minor": 5
}
